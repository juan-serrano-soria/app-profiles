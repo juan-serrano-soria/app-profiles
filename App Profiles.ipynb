{
 "cells": [
  {
   "cell_type": "markdown",
   "metadata": {},
   "source": [
    "# Profitable App Profiles for the App Store and Google Play Markets"
   ]
  },
  {
   "cell_type": "markdown",
   "metadata": {},
   "source": [
    "This is the final project suggested in the _Python for Data Science: Fundamentals_ course hosted by [Dataquest.io](https://www.dataquest.io/)."
   ]
  },
  {
   "cell_type": "markdown",
   "metadata": {},
   "source": [
    "In this project we will analyze apps pertaining to Apple's App Store and Google Play markets, in order to understand which of them are likely to attract more users.\n",
    "\n",
    "We pretend to work with a team of app developers, and our job is to enable the team to make data-driven decisions with respect of how to build the apps.\n",
    "At our ficiticious company, we only build free apps, and our source of revenue are ads, which is why number of users is essential. Our job is to make sure this number is high."
   ]
  },
  {
   "cell_type": "markdown",
   "metadata": {},
   "source": [
    "## Opening and Exploring the Data"
   ]
  },
  {
   "cell_type": "markdown",
   "metadata": {},
   "source": [
    "By September 2018, there were approximately 2.1 million apps on Google Play, and 2 million apps on the App Store.\n",
    "\n",
    "![](py1m8_statista.png)\n",
    "\n",
    "For the purpose of this project, we will analyze two sample data sets instead, obtained from [Kaggle.com](https://www.kaggle.com/):\n",
    "\n",
    "- The [first data set](https://www.kaggle.com/lava18/google-play-store-apps/home) contains data from 10,000 Android apps, collected in August 2018\n",
    "- The [second one](https://www.kaggle.com/ramamet4/app-store-apple-data-set-10k-apps/home) contains data about 7,000 iOS apps, collecte in July 2017"
   ]
  },
  {
   "cell_type": "markdown",
   "metadata": {},
   "source": [
    "First, we open the two data sets."
   ]
  },
  {
   "cell_type": "code",
   "execution_count": 1,
   "metadata": {},
   "outputs": [],
   "source": [
    "from csv import reader\n",
    "\n",
    "# Google Play data set\n",
    "opened_file = open('googleplaystore.csv', encoding='utf8')\n",
    "read_file = reader(opened_file)\n",
    "android = list(read_file)\n",
    "android_header = android[0]\n",
    "android = android[1:]\n",
    "\n",
    "# App Store data set\n",
    "opened_file = open('AppleStore.csv', encoding='utf8')\n",
    "read_file = reader(opened_file)\n",
    "ios = list(read_file)\n",
    "ios_header = ios[0]\n",
    "ios = ios[1:]"
   ]
  },
  {
   "cell_type": "markdown",
   "metadata": {},
   "source": [
    "We create a function called `explore_data()` to make it easier to explore the two data sets. This function also takes an optional parameter to display the number of rows and columns of the dataset."
   ]
  },
  {
   "cell_type": "code",
   "execution_count": 2,
   "metadata": {},
   "outputs": [],
   "source": [
    "def explore_data(dataset, start, end, rows_and_cols=False):\n",
    "    dataset_slice = dataset[start:end]\n",
    "    for row in dataset_slice:\n",
    "        print(row)\n",
    "        print('\\n')\n",
    "        \n",
    "    if rows_and_cols:\n",
    "        print('Number of rows:    ', len(dataset))\n",
    "        print('Number of columns: ', len(dataset[0]))"
   ]
  },
  {
   "cell_type": "code",
   "execution_count": 3,
   "metadata": {},
   "outputs": [
    {
     "name": "stdout",
     "output_type": "stream",
     "text": [
      "['App', 'Category', 'Rating', 'Reviews', 'Size', 'Installs', 'Type', 'Price', 'Content Rating', 'Genres', 'Last Updated', 'Current Ver', 'Android Ver'] \n",
      "\n",
      "['Photo Editor & Candy Camera & Grid & ScrapBook', 'ART_AND_DESIGN', '4.1', '159', '19M', '10,000+', 'Free', '0', 'Everyone', 'Art & Design', 'January 7, 2018', '1.0.0', '4.0.3 and up']\n",
      "\n",
      "\n",
      "['Coloring book moana', 'ART_AND_DESIGN', '3.9', '967', '14M', '500,000+', 'Free', '0', 'Everyone', 'Art & Design;Pretend Play', 'January 15, 2018', '2.0.0', '4.0.3 and up']\n",
      "\n",
      "\n",
      "['U Launcher Lite – FREE Live Cool Themes, Hide Apps', 'ART_AND_DESIGN', '4.7', '87510', '8.7M', '5,000,000+', 'Free', '0', 'Everyone', 'Art & Design', 'August 1, 2018', '1.2.4', '4.0.3 and up']\n",
      "\n",
      "\n",
      "Number of rows:     10841\n",
      "Number of columns:  13\n"
     ]
    }
   ],
   "source": [
    "print(android_header, '\\n')\n",
    "explore_data(android, 0, 3, True)"
   ]
  },
  {
   "cell_type": "markdown",
   "metadata": {},
   "source": [
    "We start looking into the Google Play data set. It has 10841 rows and 13 columns. We can easily identify the columns that might be important for our analysis: 'App', 'Category', 'Reviews', 'Installs', 'Type', 'Price' and 'Genres'.\n",
    "\n",
    "Now we take a look at the App Store data set:"
   ]
  },
  {
   "cell_type": "code",
   "execution_count": 4,
   "metadata": {},
   "outputs": [
    {
     "name": "stdout",
     "output_type": "stream",
     "text": [
      "['', 'id', 'track_name', 'size_bytes', 'currency', 'price', 'rating_count_tot', 'rating_count_ver', 'user_rating', 'user_rating_ver', 'ver', 'cont_rating', 'prime_genre', 'sup_devices.num', 'ipadSc_urls.num', 'lang.num', 'vpp_lic'] \n",
      "\n",
      "['1', '281656475', 'PAC-MAN Premium', '100788224', 'USD', '3.99', '21292', '26', '4', '4.5', '6.3.5', '4+', 'Games', '38', '5', '10', '1']\n",
      "\n",
      "\n",
      "['2', '281796108', 'Evernote - stay organized', '158578688', 'USD', '0', '161065', '26', '4', '3.5', '8.2.2', '4+', 'Productivity', '37', '5', '23', '1']\n",
      "\n",
      "\n",
      "['3', '281940292', 'WeatherBug - Local Weather, Radar, Maps, Alerts', '100524032', 'USD', '0', '188583', '2822', '3.5', '4.5', '5.0.0', '4+', 'Weather', '37', '5', '3', '1']\n",
      "\n",
      "\n",
      "Number of rows:     7197\n",
      "Number of columns:  17\n"
     ]
    }
   ],
   "source": [
    "print(ios_header, '\\n')\n",
    "explore_data(ios, 0, 3, True)"
   ]
  },
  {
   "cell_type": "markdown",
   "metadata": {},
   "source": [
    "As we can see, there are 7197 iOS apps, and the columns that seem interesting are: 'track_name', 'currncy', 'price', 'rating_count_tot', 'rating_count_ver' and 'prime_genre'.\n",
    "\n",
    "Not all column names are self-explanatory, especially in the second case. Details about each column can be found on the [Google Play data set documentation](https://www.kaggle.com/lava18/google-play-store-apps/home) and the [App Store data set documentation](https://www.kaggle.com/ramamet4/app-store-apple-data-set-10k-apps/home)."
   ]
  },
  {
   "cell_type": "markdown",
   "metadata": {},
   "source": [
    "## Deleting wrong data"
   ]
  },
  {
   "cell_type": "markdown",
   "metadata": {},
   "source": [
    "Reading the [discussion of the Google Play data set](https://www.kaggle.com/lava18/google-play-store-apps/discussion), we find a top rated [entry](https://www.kaggle.com/lava18/google-play-store-apps/discussion/66015) that outlines an error with row 10472. Let's print this row and compare it with the header and the first row, to check if it's actually incorrect or they fixed the data set."
   ]
  },
  {
   "cell_type": "code",
   "execution_count": 5,
   "metadata": {},
   "outputs": [
    {
     "name": "stdout",
     "output_type": "stream",
     "text": [
      "['Life Made WI-Fi Touchscreen Photo Frame', '1.9', '19', '3.0M', '1,000+', 'Free', '0', 'Everyone', '', 'February 11, 2018', '1.0.19', '4.0 and up'] \n",
      "\n",
      "['App', 'Category', 'Rating', 'Reviews', 'Size', 'Installs', 'Type', 'Price', 'Content Rating', 'Genres', 'Last Updated', 'Current Ver', 'Android Ver'] \n",
      "\n",
      "['Photo Editor & Candy Camera & Grid & ScrapBook', 'ART_AND_DESIGN', '4.1', '159', '19M', '10,000+', 'Free', '0', 'Everyone', 'Art & Design', 'January 7, 2018', '1.0.0', '4.0.3 and up']\n"
     ]
    }
   ],
   "source": [
    "print(android[10472], '\\n') # incorrect row\n",
    "print(android_header, '\\n')\n",
    "print(android[0])"
   ]
  },
  {
   "cell_type": "markdown",
   "metadata": {},
   "source": [
    "As we can see, the rating is 19, and there's a general column shift in this row, and thus we have to delete it so it doesn't lead us to errors."
   ]
  },
  {
   "cell_type": "code",
   "execution_count": 6,
   "metadata": {},
   "outputs": [
    {
     "name": "stdout",
     "output_type": "stream",
     "text": [
      "10841\n",
      "10840\n"
     ]
    }
   ],
   "source": [
    "print(len(android))\n",
    "del android[10472] # don't run this more than once\n",
    "print(len(android))"
   ]
  },
  {
   "cell_type": "markdown",
   "metadata": {},
   "source": [
    "We also check the [App Store data set discussion](https://www.kaggle.com/ramamet4/app-store-apple-data-set-10k-apps/discussion), and we find a possible duplication in apps. Reading the coment section of the [entry](https://www.kaggle.com/ramamet4/app-store-apple-data-set-10k-apps/discussion/90409) we find out it's just two different apps with the same name (track_name). This leads us into the next section."
   ]
  },
  {
   "cell_type": "markdown",
   "metadata": {},
   "source": [
    "## Removing duplicate entries"
   ]
  },
  {
   "cell_type": "markdown",
   "metadata": {},
   "source": [
    "### Part One"
   ]
  },
  {
   "cell_type": "markdown",
   "metadata": {},
   "source": [
    "Reading the discussion section of the Google Play data set, and looking into the data set itself, we notice some apps have duplicate entries. For example, we check that Instagram has four entries:"
   ]
  },
  {
   "cell_type": "code",
   "execution_count": 7,
   "metadata": {},
   "outputs": [
    {
     "name": "stdout",
     "output_type": "stream",
     "text": [
      "['Instagram', 'SOCIAL', '4.5', '66577313', 'Varies with device', '1,000,000,000+', 'Free', '0', 'Teen', 'Social', 'July 31, 2018', 'Varies with device', 'Varies with device']\n",
      "['Instagram', 'SOCIAL', '4.5', '66577446', 'Varies with device', '1,000,000,000+', 'Free', '0', 'Teen', 'Social', 'July 31, 2018', 'Varies with device', 'Varies with device']\n",
      "['Instagram', 'SOCIAL', '4.5', '66577313', 'Varies with device', '1,000,000,000+', 'Free', '0', 'Teen', 'Social', 'July 31, 2018', 'Varies with device', 'Varies with device']\n",
      "['Instagram', 'SOCIAL', '4.5', '66509917', 'Varies with device', '1,000,000,000+', 'Free', '0', 'Teen', 'Social', 'July 31, 2018', 'Varies with device', 'Varies with device']\n"
     ]
    }
   ],
   "source": [
    "for app in android:\n",
    "    name = app[0]\n",
    "    if name == 'Instagram':\n",
    "        print(app)"
   ]
  },
  {
   "cell_type": "markdown",
   "metadata": {},
   "source": [
    "Let's check how many duplicate apps there are."
   ]
  },
  {
   "cell_type": "code",
   "execution_count": 8,
   "metadata": {},
   "outputs": [
    {
     "name": "stdout",
     "output_type": "stream",
     "text": [
      "Number of duplicate apps:  1181 \n",
      "\n",
      "Examples of duplicate apps:  ['Quick PDF Scanner + OCR FREE', 'Box', 'Google My Business', 'ZOOM Cloud Meetings', 'join.me - Simple Meetings', 'Box', 'Zenefits', 'Google Ads', 'Google My Business', 'Slack']\n"
     ]
    }
   ],
   "source": [
    "duplicate_apps = []\n",
    "unique_apps = []\n",
    "\n",
    "for app in android:\n",
    "    name = app[0]\n",
    "    if name in unique_apps:\n",
    "        duplicate_apps.append(name)\n",
    "    else:\n",
    "        unique_apps.append(name)\n",
    "        \n",
    "print('Number of duplicate apps: ', len(duplicate_apps), '\\n')\n",
    "print('Examples of duplicate apps: ', duplicate_apps[:10])"
   ]
  },
  {
   "cell_type": "markdown",
   "metadata": {},
   "source": [
    "We don't want to count some apps more than once when we analyze data, so we need to remove the duplicate entries, and keep only one per app. \n",
    "\n",
    "Let's examine the Instagram duplicates data alongside the header to see if we find some criterion for selecting the entry we will keep."
   ]
  },
  {
   "cell_type": "code",
   "execution_count": 9,
   "metadata": {},
   "outputs": [
    {
     "name": "stdout",
     "output_type": "stream",
     "text": [
      "['App', 'Category', 'Rating', 'Reviews', 'Size', 'Installs', 'Type', 'Price', 'Content Rating', 'Genres', 'Last Updated', 'Current Ver', 'Android Ver'] \n",
      "\n",
      "['Instagram', 'SOCIAL', '4.5', '66577313', 'Varies with device', '1,000,000,000+', 'Free', '0', 'Teen', 'Social', 'July 31, 2018', 'Varies with device', 'Varies with device']\n",
      "['Instagram', 'SOCIAL', '4.5', '66577446', 'Varies with device', '1,000,000,000+', 'Free', '0', 'Teen', 'Social', 'July 31, 2018', 'Varies with device', 'Varies with device']\n",
      "['Instagram', 'SOCIAL', '4.5', '66577313', 'Varies with device', '1,000,000,000+', 'Free', '0', 'Teen', 'Social', 'July 31, 2018', 'Varies with device', 'Varies with device']\n",
      "['Instagram', 'SOCIAL', '4.5', '66509917', 'Varies with device', '1,000,000,000+', 'Free', '0', 'Teen', 'Social', 'July 31, 2018', 'Varies with device', 'Varies with device']\n"
     ]
    }
   ],
   "source": [
    "print(android_header, '\\n')\n",
    "\n",
    "for app in android:\n",
    "    name = app[0]\n",
    "    if name == 'Instagram':\n",
    "        print(app)"
   ]
  },
  {
   "cell_type": "markdown",
   "metadata": {},
   "source": [
    "We can see that the 'Rating' is the same in all of them, and the 'Installs' and 'Last Updated' too. We will focus on the 'Reviews' column, because the more reviews an app has, the more recent the data should be.\n",
    "\n",
    "Thus, we will keep the entry of each app which has the highest number of reviews. To do so, we will create a dictionary where each key is a unique app name, the most reviewed one, and hen we will use it to create a new data set with those selected unique apps, and no duplicates."
   ]
  },
  {
   "cell_type": "markdown",
   "metadata": {},
   "source": [
    "### Part Two"
   ]
  },
  {
   "cell_type": "markdown",
   "metadata": {},
   "source": [
    "First we create the dictionary:"
   ]
  },
  {
   "cell_type": "code",
   "execution_count": 10,
   "metadata": {},
   "outputs": [],
   "source": [
    "reviews_max = {}\n",
    "\n",
    "for app in android:\n",
    "    name = app[0]\n",
    "    n_reviews = float(app[3])\n",
    "    if name in reviews_max and (reviews_max[name] < n_reviews):\n",
    "        reviews_max[name] = n_reviews\n",
    "    elif name not in reviews_max:\n",
    "        reviews_max[name] = n_reviews"
   ]
  },
  {
   "cell_type": "markdown",
   "metadata": {},
   "source": [
    "In a previous cell we checked that there are 1181 duplicate apps. To make sure everything was correct, we can check if the length of our `reviews_max` dictionary is equal to the difference between the length of the data set and 1181."
   ]
  },
  {
   "cell_type": "code",
   "execution_count": 11,
   "metadata": {},
   "outputs": [
    {
     "name": "stdout",
     "output_type": "stream",
     "text": [
      "Expected length:  9659\n",
      "Actual length:    9659\n"
     ]
    }
   ],
   "source": [
    "print('Expected length: ', len(android) - 1181)\n",
    "print('Actual length:   ', len(reviews_max))"
   ]
  },
  {
   "cell_type": "markdown",
   "metadata": {},
   "source": [
    "Now we use the `reviews_max` dictionary to remove the duplicates, and keep only the entries with the highest number of reviews in a list."
   ]
  },
  {
   "cell_type": "code",
   "execution_count": 12,
   "metadata": {},
   "outputs": [],
   "source": [
    "android_clean = []\n",
    "already_added = []\n",
    "\n",
    "for app in android:\n",
    "    name = app[0]\n",
    "    n_reviews = float(app[3])\n",
    "    if (n_reviews == reviews_max[name]) and (name not in already_added):\n",
    "        android_clean.append(app)\n",
    "        already_added.append(name)"
   ]
  },
  {
   "cell_type": "markdown",
   "metadata": {},
   "source": [
    "Now, let's explore our new clean Google Play data set, and confirm that everything is correct."
   ]
  },
  {
   "cell_type": "code",
   "execution_count": 13,
   "metadata": {
    "scrolled": true
   },
   "outputs": [
    {
     "name": "stdout",
     "output_type": "stream",
     "text": [
      "['Photo Editor & Candy Camera & Grid & ScrapBook', 'ART_AND_DESIGN', '4.1', '159', '19M', '10,000+', 'Free', '0', 'Everyone', 'Art & Design', 'January 7, 2018', '1.0.0', '4.0.3 and up']\n",
      "\n",
      "\n",
      "['U Launcher Lite – FREE Live Cool Themes, Hide Apps', 'ART_AND_DESIGN', '4.7', '87510', '8.7M', '5,000,000+', 'Free', '0', 'Everyone', 'Art & Design', 'August 1, 2018', '1.2.4', '4.0.3 and up']\n",
      "\n",
      "\n",
      "['Sketch - Draw & Paint', 'ART_AND_DESIGN', '4.5', '215644', '25M', '50,000,000+', 'Free', '0', 'Teen', 'Art & Design', 'June 8, 2018', 'Varies with device', '4.2 and up']\n",
      "\n",
      "\n",
      "Number of rows:     9659\n",
      "Number of columns:  13\n"
     ]
    }
   ],
   "source": [
    "explore_data(android_clean, 0, 3, True)"
   ]
  },
  {
   "cell_type": "markdown",
   "metadata": {},
   "source": [
    "As we expected, the number of rows is 9659."
   ]
  },
  {
   "cell_type": "markdown",
   "metadata": {},
   "source": [
    "## Removing Non-English Apps"
   ]
  },
  {
   "cell_type": "markdown",
   "metadata": {},
   "source": [
    "### Part One"
   ]
  },
  {
   "cell_type": "markdown",
   "metadata": {},
   "source": [
    "Remember we use English for the apps we develop at our company, so we only want to analyze apps that are directed towards an English-speaking audience.\n",
    "\n",
    "If we explore the two data sets long enough, we will find that both contain apps with names that suggest they are not drected to an English-speaking audience."
   ]
  },
  {
   "cell_type": "code",
   "execution_count": 14,
   "metadata": {},
   "outputs": [
    {
     "name": "stdout",
     "output_type": "stream",
     "text": [
      "中国語 AQリスニング\n",
      "لعبة تقدر تربح DZ \n",
      "\n",
      "新浪新闻-阅读最新时事热门头条资讯视频\n",
      "优酷视频\n"
     ]
    }
   ],
   "source": [
    "print(android_clean[4412][0])\n",
    "print(android_clean[7940][0], '\\n')\n",
    "print(ios[70][2])\n",
    "print(ios[236][2])"
   ]
  },
  {
   "cell_type": "markdown",
   "metadata": {},
   "source": [
    "We don't want to keep these apps, so we'll remove them. To do so, we can remove each app with a name containing a character that is not commonly used in English - latin letters, numbers composed of digits from 0 to 9,punctuation marks and other symbols such as +, /, etc.\n",
    "\n",
    "All these characters are encoded used the ASCII standard. Each ASCII character has a number between 0 and 127 associated.\n",
    "\n",
    "We can take advantage of it to buil a function that checks if an app name contains non-ASCII characters, making use of the built-in `ord()` function to find out the corresponding encoding numbers."
   ]
  },
  {
   "cell_type": "code",
   "execution_count": 15,
   "metadata": {},
   "outputs": [],
   "source": [
    "def is_english(string):\n",
    "    for character in string:\n",
    "        if ord(character) > 127:\n",
    "            return False\n",
    "    return True"
   ]
  },
  {
   "cell_type": "markdown",
   "metadata": {},
   "source": [
    "Now, let's test it with some app names:"
   ]
  },
  {
   "cell_type": "code",
   "execution_count": 16,
   "metadata": {},
   "outputs": [
    {
     "name": "stdout",
     "output_type": "stream",
     "text": [
      "True\n",
      "False\n",
      "False\n",
      "False\n"
     ]
    }
   ],
   "source": [
    "print(is_english('Instagram'))\n",
    "print(is_english('爱奇艺PPS -《欢乐颂2》电视剧热播'))\n",
    "print(is_english('Docs To Go™ Free Office Suite'))\n",
    "print(is_english('Instachat 😜'))"
   ]
  },
  {
   "cell_type": "markdown",
   "metadata": {},
   "source": [
    "Looking at the first two strings, our function seems to work. But then it doesn't work properly in the third and fourth ones. This is probably because of the ™ symbol and the emoji. Let's check that their associated numbers fall out of our ASCII range."
   ]
  },
  {
   "cell_type": "code",
   "execution_count": 17,
   "metadata": {},
   "outputs": [
    {
     "name": "stdout",
     "output_type": "stream",
     "text": [
      "8482\n",
      "128540\n"
     ]
    }
   ],
   "source": [
    "print(ord('™'))\n",
    "print(ord('😜'))"
   ]
  },
  {
   "cell_type": "markdown",
   "metadata": {},
   "source": [
    "If we use our function, we will remove some useful apps."
   ]
  },
  {
   "cell_type": "markdown",
   "metadata": {},
   "source": [
    "### Part Two"
   ]
  },
  {
   "cell_type": "markdown",
   "metadata": {},
   "source": [
    "We will now rewrite our previous function so it returns False if the input string contains more than three characters that fall outside the ASCII range.\n",
    "\n",
    "This is not perfect, and some English apps may not pass this filter, but for the purpose of the project it is good enough."
   ]
  },
  {
   "cell_type": "code",
   "execution_count": 18,
   "metadata": {},
   "outputs": [],
   "source": [
    "def is_english(string):\n",
    "    count = 0\n",
    "    for character in string:\n",
    "        if ord(character) > 127:\n",
    "            count += 1\n",
    "    if count > 3:\n",
    "        return False\n",
    "    return True"
   ]
  },
  {
   "cell_type": "markdown",
   "metadata": {},
   "source": [
    "Using our new function should work properly with the previous app names."
   ]
  },
  {
   "cell_type": "code",
   "execution_count": 19,
   "metadata": {},
   "outputs": [
    {
     "name": "stdout",
     "output_type": "stream",
     "text": [
      "True\n",
      "False\n",
      "True\n",
      "True\n"
     ]
    }
   ],
   "source": [
    "print(is_english('Instagram'))\n",
    "print(is_english('爱奇艺PPS -《欢乐颂2》电视剧热播'))\n",
    "print(is_english('Docs To Go™ Free Office Suite'))\n",
    "print(is_english('Instachat 😜'))"
   ]
  },
  {
   "cell_type": "markdown",
   "metadata": {},
   "source": [
    "It does, indeed.\n",
    "\n",
    "Now, let's filter out the non-English apps in both data sets."
   ]
  },
  {
   "cell_type": "code",
   "execution_count": 20,
   "metadata": {},
   "outputs": [],
   "source": [
    "android_english = []\n",
    "ios_english = []\n",
    "\n",
    "for app in android_clean:\n",
    "    name = app[0]\n",
    "    if is_english(name):\n",
    "        android_english.append(app)\n",
    "\n",
    "for app in ios:\n",
    "    name = app[2]\n",
    "    if is_english(name):\n",
    "        ios_english.append(app)"
   ]
  },
  {
   "cell_type": "markdown",
   "metadata": {},
   "source": [
    "Now let's explore our data and check how many rows we have remaining for each data set."
   ]
  },
  {
   "cell_type": "code",
   "execution_count": 21,
   "metadata": {},
   "outputs": [
    {
     "name": "stdout",
     "output_type": "stream",
     "text": [
      "['Photo Editor & Candy Camera & Grid & ScrapBook', 'ART_AND_DESIGN', '4.1', '159', '19M', '10,000+', 'Free', '0', 'Everyone', 'Art & Design', 'January 7, 2018', '1.0.0', '4.0.3 and up']\n",
      "\n",
      "\n",
      "['U Launcher Lite – FREE Live Cool Themes, Hide Apps', 'ART_AND_DESIGN', '4.7', '87510', '8.7M', '5,000,000+', 'Free', '0', 'Everyone', 'Art & Design', 'August 1, 2018', '1.2.4', '4.0.3 and up']\n",
      "\n",
      "\n",
      "['Sketch - Draw & Paint', 'ART_AND_DESIGN', '4.5', '215644', '25M', '50,000,000+', 'Free', '0', 'Teen', 'Art & Design', 'June 8, 2018', 'Varies with device', '4.2 and up']\n",
      "\n",
      "\n",
      "Number of rows:     9614\n",
      "Number of columns:  13\n",
      "\n",
      "\n",
      "['1', '281656475', 'PAC-MAN Premium', '100788224', 'USD', '3.99', '21292', '26', '4', '4.5', '6.3.5', '4+', 'Games', '38', '5', '10', '1']\n",
      "\n",
      "\n",
      "['2', '281796108', 'Evernote - stay organized', '158578688', 'USD', '0', '161065', '26', '4', '3.5', '8.2.2', '4+', 'Productivity', '37', '5', '23', '1']\n",
      "\n",
      "\n",
      "['3', '281940292', 'WeatherBug - Local Weather, Radar, Maps, Alerts', '100524032', 'USD', '0', '188583', '2822', '3.5', '4.5', '5.0.0', '4+', 'Weather', '37', '5', '3', '1']\n",
      "\n",
      "\n",
      "Number of rows:     6183\n",
      "Number of columns:  17\n"
     ]
    }
   ],
   "source": [
    "explore_data(android_english, 0, 3, True)\n",
    "print('\\n')\n",
    "explore_data(ios_english, 0, 3, True)"
   ]
  },
  {
   "cell_type": "markdown",
   "metadata": {},
   "source": [
    "We are let with 9614 android apps and 6183 iOS apps."
   ]
  },
  {
   "cell_type": "markdown",
   "metadata": {},
   "source": [
    "## Isolating the Free Apps"
   ]
  },
  {
   "cell_type": "markdown",
   "metadata": {},
   "source": [
    "Our company only develop free apps, so we only want to analyze those which are free to download, so the next step is to isolate the free apps."
   ]
  },
  {
   "cell_type": "code",
   "execution_count": 22,
   "metadata": {},
   "outputs": [
    {
     "name": "stdout",
     "output_type": "stream",
     "text": [
      "8864\n",
      "3222\n"
     ]
    }
   ],
   "source": [
    "android_final = []\n",
    "ios_final = []\n",
    "\n",
    "for app in android_english:\n",
    "    price = app[7]\n",
    "    if price == '0':\n",
    "        android_final.append(app)\n",
    "        \n",
    "for app in ios_english:\n",
    "    price = app[5]\n",
    "    if price == '0':\n",
    "        ios_final.append(app)\n",
    "        \n",
    "print(len(android_final))\n",
    "print(len(ios_final))"
   ]
  },
  {
   "cell_type": "markdown",
   "metadata": {},
   "source": [
    "We are left with 8864 android apps and 3222 iOS ones to analyze."
   ]
  },
  {
   "cell_type": "markdown",
   "metadata": {},
   "source": [
    "## Most Common Apps by Genre"
   ]
  },
  {
   "cell_type": "markdown",
   "metadata": {},
   "source": [
    "### Part One"
   ]
  },
  {
   "cell_type": "markdown",
   "metadata": {},
   "source": [
    "As we mentioned in the introduction, we want to determine the kinds of apps that attract more users, because our revenue is directly influenced by the number of users of our apps.\n",
    "\n",
    "To minimize risks, the validation strategy of the development team is as follows:\n",
    "1. Build a minimal Android version of the app, and publish it on Google Play.\n",
    "2. If the app has a good response from users, develop it further.\n",
    "3. If the app is profitable in six months, we build an iOS version of it too.\n",
    "\n",
    "Since our final goal is to add the app on both Google Play and the App Store, we want to find app profiles that are succesful on both.\n",
    "\n",
    "We will begin our analysis by looking for the most common genres for each market. For that, we will build frequency tables for the `Genres` and `Category` columns of the Google Play data set, and the `prime_genre` column of the App Store one. "
   ]
  },
  {
   "cell_type": "markdown",
   "metadata": {},
   "source": [
    "### Part Two"
   ]
  },
  {
   "cell_type": "markdown",
   "metadata": {},
   "source": [
    "We will now build two functions, one to generate frequency tables that show percentages, and another to display the percentages in a descending order."
   ]
  },
  {
   "cell_type": "code",
   "execution_count": 23,
   "metadata": {},
   "outputs": [],
   "source": [
    "def freq_table(dataset, index):\n",
    "    table = {}\n",
    "    total = 0\n",
    "    \n",
    "    for row in dataset:\n",
    "        total += 1\n",
    "        value = row[index]\n",
    "        if value in table:\n",
    "            table[value] += 1\n",
    "        else:\n",
    "            table[value] = 1\n",
    "    \n",
    "    table_percentages = {}\n",
    "    \n",
    "    for key in table:\n",
    "        percentage = (table[key] / total) * 100\n",
    "        table_percentages[key] = percentage\n",
    "    \n",
    "    return table_percentages\n",
    "\n",
    "def display_table(dataset, index):\n",
    "    table = freq_table(dataset, index)\n",
    "    table_display = []\n",
    "    \n",
    "    for key in table:\n",
    "        key_val_as_tuple = (table[key], key)\n",
    "        table_display.append(key_val_as_tuple)\n",
    "    \n",
    "    table_sorted = sorted(table_display, reverse=True)\n",
    "    for entry in table_sorted:\n",
    "        print(entry[1], ':', entry[0])"
   ]
  },
  {
   "cell_type": "markdown",
   "metadata": {},
   "source": [
    "### Part Three"
   ]
  },
  {
   "cell_type": "markdown",
   "metadata": {},
   "source": [
    "We will start by examining the frequency table for the `prime_genre` column in the App Store data set."
   ]
  },
  {
   "cell_type": "code",
   "execution_count": 24,
   "metadata": {},
   "outputs": [
    {
     "name": "stdout",
     "output_type": "stream",
     "text": [
      "Games : 58.16263190564867\n",
      "Entertainment : 7.883302296710118\n",
      "Photo & Video : 4.9658597144630665\n",
      "Education : 3.662321539416512\n",
      "Social Networking : 3.2898820608317814\n",
      "Shopping : 2.60707635009311\n",
      "Utilities : 2.5139664804469275\n",
      "Sports : 2.1415270018621975\n",
      "Music : 2.0484171322160147\n",
      "Health & Fitness : 2.0173805090006205\n",
      "Productivity : 1.7380509000620732\n",
      "Lifestyle : 1.5828677839851024\n",
      "News : 1.3345747982619491\n",
      "Travel : 1.2414649286157666\n",
      "Finance : 1.1173184357541899\n",
      "Weather : 0.8690254500310366\n",
      "Food & Drink : 0.8069522036002483\n",
      "Reference : 0.5586592178770949\n",
      "Business : 0.5276225946617008\n",
      "Book : 0.4345127250155183\n",
      "Navigation : 0.186219739292365\n",
      "Medical : 0.186219739292365\n",
      "Catalogs : 0.12414649286157665\n"
     ]
    }
   ],
   "source": [
    "display_table(ios_final, 12)"
   ]
  },
  {
   "cell_type": "markdown",
   "metadata": {},
   "source": [
    "We can clearly see that more than half of the free English iOS apps are games. That is followed by a far less percentage of entertainment (~7.8%), photo and video (~4.9%) and social networking (~3.3%) apps.\n",
    "\n",
    "This means that the App Store (the part that concerns us) is dominated by apps designed for fun, while apps with more practical purposes, like productivity, business or medical ones are more rare (around 1.7%, 0.5% and 0.2% each).\n",
    "\n",
    "But we can't get any conclusions at this point, because the offer may be much higher than the demand, and these apps might not have the greatest number of users."
   ]
  },
  {
   "cell_type": "markdown",
   "metadata": {},
   "source": [
    "Now, let's examine the `Category` and `Genres` columns of the Google Play data set, which seem to be pretty similar."
   ]
  },
  {
   "cell_type": "code",
   "execution_count": 25,
   "metadata": {},
   "outputs": [
    {
     "name": "stdout",
     "output_type": "stream",
     "text": [
      "FAMILY : 18.907942238267147\n",
      "GAME : 9.724729241877256\n",
      "TOOLS : 8.461191335740072\n",
      "BUSINESS : 4.591606498194946\n",
      "LIFESTYLE : 3.9034296028880866\n",
      "PRODUCTIVITY : 3.892148014440433\n",
      "FINANCE : 3.7003610108303246\n",
      "MEDICAL : 3.531137184115524\n",
      "SPORTS : 3.395758122743682\n",
      "PERSONALIZATION : 3.3167870036101084\n",
      "COMMUNICATION : 3.2378158844765346\n",
      "HEALTH_AND_FITNESS : 3.0798736462093865\n",
      "PHOTOGRAPHY : 2.944494584837545\n",
      "NEWS_AND_MAGAZINES : 2.7978339350180503\n",
      "SOCIAL : 2.6624548736462095\n",
      "TRAVEL_AND_LOCAL : 2.33528880866426\n",
      "SHOPPING : 2.2450361010830324\n",
      "BOOKS_AND_REFERENCE : 2.1435018050541514\n",
      "DATING : 1.861462093862816\n",
      "VIDEO_PLAYERS : 1.7937725631768955\n",
      "MAPS_AND_NAVIGATION : 1.3989169675090252\n",
      "FOOD_AND_DRINK : 1.2409747292418771\n",
      "EDUCATION : 1.1620036101083033\n",
      "ENTERTAINMENT : 0.9589350180505415\n",
      "LIBRARIES_AND_DEMO : 0.9363718411552346\n",
      "AUTO_AND_VEHICLES : 0.9250902527075812\n",
      "HOUSE_AND_HOME : 0.8235559566787004\n",
      "WEATHER : 0.8009927797833934\n",
      "EVENTS : 0.7107400722021661\n",
      "PARENTING : 0.6543321299638989\n",
      "ART_AND_DESIGN : 0.6430505415162455\n",
      "COMICS : 0.6204873646209386\n",
      "BEAUTY : 0.5979241877256317\n"
     ]
    }
   ],
   "source": [
    "display_table(android_final, 1) # Category"
   ]
  },
  {
   "cell_type": "markdown",
   "metadata": {},
   "source": [
    "We can see an interesting difference: there are not that many game apps, and a lot more practical apps, like family and tools.\n",
    "However, if we further investigate the family category, we will see that it consists mostly of games for kids."
   ]
  },
  {
   "cell_type": "code",
   "execution_count": 26,
   "metadata": {},
   "outputs": [
    {
     "name": "stdout",
     "output_type": "stream",
     "text": [
      "['Jewels Crush- Match 3 Puzzle', 'FAMILY', '4.4', '14774', '19M', '1,000,000+', 'Free', '0', 'Everyone', 'Casual;Brain Games', 'July 23, 2018', '1.9.3901', '4.0.3 and up']\n",
      "['Coloring & Learn', 'FAMILY', '4.4', '12753', '51M', '5,000,000+', 'Free', '0', 'Everyone', 'Educational;Creativity', 'July 17, 2018', '1.49', '4.0.3 and up']\n",
      "['Mahjong', 'FAMILY', '4.5', '33983', '22M', '5,000,000+', 'Free', '0', 'Everyone', 'Puzzle;Brain Games', 'August 2, 2018', '1.24.3181', '4.0.3 and up']\n",
      "['Super ABC! Learning games for kids! Preschool apps', 'FAMILY', '4.6', '20267', '46M', '1,000,000+', 'Free', '0', 'Everyone', 'Educational;Education', 'July 16, 2018', '1.1.6.7', '4.1 and up']\n",
      "['Toy Pop Cubes', 'FAMILY', '4.5', '5761', '21M', '1,000,000+', 'Free', '0', 'Everyone', 'Casual;Brain Games', 'July 4, 2018', '1.8.3181', '4.0.3 and up']\n",
      "['Educational Games 4 Kids', 'FAMILY', '4.3', '11618', '39M', '5,000,000+', 'Free', '0', 'Everyone', 'Educational;Education', 'April 3, 2018', '2.4', '4.1 and up']\n",
      "['Candy Pop Story', 'FAMILY', '4.7', '12948', '23M', '1,000,000+', 'Free', '0', 'Everyone', 'Casual;Brain Games', 'May 24, 2018', '2.0.3165', '2.3 and up']\n",
      "['Princess Coloring Book', 'FAMILY', '4.5', '9779', '39M', '5,000,000+', 'Free', '0', 'Everyone', 'Education;Creativity', 'February 25, 2018', '1.2.8', '4.0 and up']\n",
      "['Hello Kitty Nail Salon', 'FAMILY', '4.2', '369378', '24M', '50,000,000+', 'Free', '0', 'Everyone', 'Casual;Pretend Play', 'April 17, 2018', '1.5', '4.1 and up']\n"
     ]
    }
   ],
   "source": [
    "for app in android_final[:1430]:\n",
    "    category = app[1]\n",
    "    if category == 'FAMILY':\n",
    "        print(app)"
   ]
  },
  {
   "cell_type": "markdown",
   "metadata": {},
   "source": [
    "Anyway, practical apps have a better representation on Google Play than on the App Store. This is confirmed by the following frequency table."
   ]
  },
  {
   "cell_type": "code",
   "execution_count": 27,
   "metadata": {
    "scrolled": false
   },
   "outputs": [
    {
     "name": "stdout",
     "output_type": "stream",
     "text": [
      "Tools : 8.449909747292418\n",
      "Entertainment : 6.069494584837545\n",
      "Education : 5.347472924187725\n",
      "Business : 4.591606498194946\n",
      "Productivity : 3.892148014440433\n",
      "Lifestyle : 3.892148014440433\n",
      "Finance : 3.7003610108303246\n",
      "Medical : 3.531137184115524\n",
      "Sports : 3.463447653429603\n",
      "Personalization : 3.3167870036101084\n",
      "Communication : 3.2378158844765346\n",
      "Action : 3.1024368231046933\n",
      "Health & Fitness : 3.0798736462093865\n",
      "Photography : 2.944494584837545\n",
      "News & Magazines : 2.7978339350180503\n",
      "Social : 2.6624548736462095\n",
      "Travel & Local : 2.3240072202166067\n",
      "Shopping : 2.2450361010830324\n",
      "Books & Reference : 2.1435018050541514\n",
      "Simulation : 2.0419675090252705\n",
      "Dating : 1.861462093862816\n",
      "Arcade : 1.8501805054151623\n",
      "Video Players & Editors : 1.7712093862815883\n",
      "Casual : 1.7599277978339352\n",
      "Maps & Navigation : 1.3989169675090252\n",
      "Food & Drink : 1.2409747292418771\n",
      "Puzzle : 1.128158844765343\n",
      "Racing : 0.9927797833935018\n",
      "Role Playing : 0.9363718411552346\n",
      "Libraries & Demo : 0.9363718411552346\n",
      "Auto & Vehicles : 0.9250902527075812\n",
      "Strategy : 0.9138086642599278\n",
      "House & Home : 0.8235559566787004\n",
      "Weather : 0.8009927797833934\n",
      "Events : 0.7107400722021661\n",
      "Adventure : 0.6768953068592057\n",
      "Comics : 0.6092057761732852\n",
      "Beauty : 0.5979241877256317\n",
      "Art & Design : 0.5979241877256317\n",
      "Parenting : 0.4963898916967509\n",
      "Card : 0.45126353790613716\n",
      "Casino : 0.42870036101083037\n",
      "Trivia : 0.41741877256317694\n",
      "Educational;Education : 0.39485559566787\n",
      "Board : 0.3835740072202166\n",
      "Educational : 0.3722924187725632\n",
      "Education;Education : 0.33844765342960287\n",
      "Word : 0.2594765342960289\n",
      "Casual;Pretend Play : 0.236913357400722\n",
      "Music : 0.2030685920577617\n",
      "Racing;Action & Adventure : 0.16922382671480143\n",
      "Puzzle;Brain Games : 0.16922382671480143\n",
      "Entertainment;Music & Video : 0.16922382671480143\n",
      "Casual;Brain Games : 0.13537906137184114\n",
      "Casual;Action & Adventure : 0.13537906137184114\n",
      "Arcade;Action & Adventure : 0.12409747292418773\n",
      "Action;Action & Adventure : 0.10153429602888085\n",
      "Educational;Pretend Play : 0.09025270758122744\n",
      "Simulation;Action & Adventure : 0.078971119133574\n",
      "Parenting;Education : 0.078971119133574\n",
      "Entertainment;Brain Games : 0.078971119133574\n",
      "Board;Brain Games : 0.078971119133574\n",
      "Parenting;Music & Video : 0.06768953068592057\n",
      "Educational;Brain Games : 0.06768953068592057\n",
      "Casual;Creativity : 0.06768953068592057\n",
      "Art & Design;Creativity : 0.06768953068592057\n",
      "Education;Pretend Play : 0.056407942238267145\n",
      "Role Playing;Pretend Play : 0.04512635379061372\n",
      "Education;Creativity : 0.04512635379061372\n",
      "Role Playing;Action & Adventure : 0.033844765342960284\n",
      "Puzzle;Action & Adventure : 0.033844765342960284\n",
      "Entertainment;Creativity : 0.033844765342960284\n",
      "Entertainment;Action & Adventure : 0.033844765342960284\n",
      "Educational;Creativity : 0.033844765342960284\n",
      "Educational;Action & Adventure : 0.033844765342960284\n",
      "Education;Music & Video : 0.033844765342960284\n",
      "Education;Brain Games : 0.033844765342960284\n",
      "Education;Action & Adventure : 0.033844765342960284\n",
      "Adventure;Action & Adventure : 0.033844765342960284\n",
      "Video Players & Editors;Music & Video : 0.02256317689530686\n",
      "Sports;Action & Adventure : 0.02256317689530686\n",
      "Simulation;Pretend Play : 0.02256317689530686\n",
      "Puzzle;Creativity : 0.02256317689530686\n",
      "Music;Music & Video : 0.02256317689530686\n",
      "Entertainment;Pretend Play : 0.02256317689530686\n",
      "Casual;Education : 0.02256317689530686\n",
      "Board;Action & Adventure : 0.02256317689530686\n",
      "Video Players & Editors;Creativity : 0.01128158844765343\n",
      "Trivia;Education : 0.01128158844765343\n",
      "Travel & Local;Action & Adventure : 0.01128158844765343\n",
      "Tools;Education : 0.01128158844765343\n",
      "Strategy;Education : 0.01128158844765343\n",
      "Strategy;Creativity : 0.01128158844765343\n",
      "Strategy;Action & Adventure : 0.01128158844765343\n",
      "Simulation;Education : 0.01128158844765343\n",
      "Role Playing;Brain Games : 0.01128158844765343\n",
      "Racing;Pretend Play : 0.01128158844765343\n",
      "Puzzle;Education : 0.01128158844765343\n",
      "Parenting;Brain Games : 0.01128158844765343\n",
      "Music & Audio;Music & Video : 0.01128158844765343\n",
      "Lifestyle;Pretend Play : 0.01128158844765343\n",
      "Lifestyle;Education : 0.01128158844765343\n",
      "Health & Fitness;Education : 0.01128158844765343\n",
      "Health & Fitness;Action & Adventure : 0.01128158844765343\n",
      "Entertainment;Education : 0.01128158844765343\n",
      "Communication;Creativity : 0.01128158844765343\n",
      "Comics;Creativity : 0.01128158844765343\n",
      "Casual;Music & Video : 0.01128158844765343\n",
      "Card;Action & Adventure : 0.01128158844765343\n",
      "Books & Reference;Education : 0.01128158844765343\n",
      "Art & Design;Pretend Play : 0.01128158844765343\n",
      "Art & Design;Action & Adventure : 0.01128158844765343\n",
      "Arcade;Pretend Play : 0.01128158844765343\n",
      "Adventure;Education : 0.01128158844765343\n"
     ]
    }
   ],
   "source": [
    "display_table(android_final, 9) # Genres"
   ]
  },
  {
   "cell_type": "markdown",
   "metadata": {},
   "source": [
    "The difference between `Category` and `Genres` isn't that clear, although we can see that the second one is much more precise and has a lot more categories. For the purpose of this project, we have enough with the bigger picture, so we will only work with the `Category` column from now on."
   ]
  },
  {
   "cell_type": "markdown",
   "metadata": {},
   "source": [
    "Now that we know that the App Store is dominated by apps designed for fun and Google Play shows a better balance of both practical and fun apps, we have to find out which kinds of apps have most users, in both markets."
   ]
  },
  {
   "cell_type": "markdown",
   "metadata": {},
   "source": [
    "## Most Popular Apps by Genre on the App Store"
   ]
  },
  {
   "cell_type": "markdown",
   "metadata": {},
   "source": [
    "One way to find out what genres are the most popular is to calculate the average number of install for each one of them. For the Google Play data set we can find this in the `Installs` column, but the App Store data set doesn't have this information. As a workaround, we will use the total number of user ratings, which we can find in the `rating_count_tot` column.\n",
    "\n",
    "Let's calculate the average number of user ratings per app genre."
   ]
  },
  {
   "cell_type": "code",
   "execution_count": 28,
   "metadata": {},
   "outputs": [
    {
     "name": "stdout",
     "output_type": "stream",
     "text": [
      "Productivity :  21028.410714285714\n",
      "Weather :  52279.892857142855\n",
      "Shopping :  26919.690476190477\n",
      "Reference :  74942.11111111111\n",
      "Finance :  31467.944444444445\n",
      "Music :  57326.530303030304\n",
      "Utilities :  18684.456790123455\n",
      "Travel :  28243.8\n",
      "Social Networking :  71548.34905660378\n",
      "Sports :  23008.898550724636\n",
      "Health & Fitness :  23298.015384615384\n",
      "Games :  22788.6696905016\n",
      "Food & Drink :  33333.92307692308\n",
      "News :  21248.023255813954\n",
      "Book :  39758.5\n",
      "Photo & Video :  28441.54375\n",
      "Entertainment :  14029.830708661417\n",
      "Business :  7491.117647058823\n",
      "Lifestyle :  16485.764705882353\n",
      "Education :  7003.983050847458\n",
      "Navigation :  86090.33333333333\n",
      "Medical :  612.0\n",
      "Catalogs :  4004.0\n"
     ]
    }
   ],
   "source": [
    "genres_ios = freq_table(ios_final, 12)\n",
    "\n",
    "for genre in genres_ios:\n",
    "    total = 0\n",
    "    len_genre = 0\n",
    "    for app in ios_final:\n",
    "        genre_app = app[12]\n",
    "        if genre_app == genre:\n",
    "            n_ratings = float(app[6])\n",
    "            total += n_ratings\n",
    "            len_genre += 1\n",
    "    avg_n_ratings = total / len_genre\n",
    "    print(genre, ': ', avg_n_ratings)    "
   ]
  },
  {
   "cell_type": "markdown",
   "metadata": {},
   "source": [
    "Navigation seems to have the most number of reviews... or the highest average of it. Let's look into it to see what really happens."
   ]
  },
  {
   "cell_type": "code",
   "execution_count": 29,
   "metadata": {},
   "outputs": [
    {
     "name": "stdout",
     "output_type": "stream",
     "text": [
      "Waze - GPS Navigation, Maps & Real-time Traffic :  345046\n",
      "Geocaching® :  12811\n",
      "ImmobilienScout24: Real Estate Search in Germany :  187\n",
      "Railway Route Search :  5\n",
      "CoPilot GPS – Car Navigation & Offline Maps :  3582\n",
      "Google Maps - Navigation & Transit :  154911\n"
     ]
    }
   ],
   "source": [
    "for app in ios_final:\n",
    "    if app[12] == 'Navigation':\n",
    "        print(app[2], ': ', app[6])"
   ]
  },
  {
   "cell_type": "markdown",
   "metadata": {},
   "source": [
    "As we expected, a couple of apps have almost half a million reviews, so the average number of reviews here doesn't mean much. This also happens in genres like social networking and music.\n",
    "\n",
    "Looking at other genres, we find the `Reference` one. Let's look into it to see what happens."
   ]
  },
  {
   "cell_type": "code",
   "execution_count": 30,
   "metadata": {},
   "outputs": [
    {
     "name": "stdout",
     "output_type": "stream",
     "text": [
      "Bible :  985920\n",
      "Dictionary.com Dictionary & Thesaurus :  200047\n",
      "Dictionary.com Dictionary & Thesaurus for iPad :  54175\n",
      "Muslim Pro: Ramadan 2017 Prayer Times, Azan, Quran :  18418\n",
      "Merriam-Webster Dictionary :  16849\n",
      "Google Translate :  26786\n",
      "Night Sky :  12122\n",
      "WWDC :  762\n",
      "Jishokun-Japanese English Dictionary & Translator :  0\n",
      "教えて!goo :  0\n",
      "VPN Express :  14\n",
      "New Furniture Mods - Pocket Wiki & Game Tools for Minecraft PC Edition :  17588\n",
      "LUCKY BLOCK MOD ™ for Minecraft PC Edition - The Best Pocket Wiki & Mods Installer Tools :  4693\n",
      "Guides for Pokémon GO - Pokemon GO News and Cheats :  826\n",
      "Horror Maps for Minecraft PE - Download The Scariest Maps for Minecraft Pocket Edition (MCPE) Free :  718\n",
      "City Maps for Minecraft PE - The Best Maps for Minecraft Pocket Edition (MCPE) :  8535\n",
      "GUNS MODS for Minecraft PC Edition - Mods Tools :  1497\n",
      "Real Bike Traffic Rider Virtual Reality Glasses :  8\n"
     ]
    }
   ],
   "source": [
    "for app in ios_final:\n",
    "    if app[12] == 'Reference':\n",
    "        print(app[2], ': ', app[6])"
   ]
  },
  {
   "cell_type": "markdown",
   "metadata": {},
   "source": [
    "The average is 74942, but we find that the Bible and Dictionary.com have 985000 and 74000 ratings each. Even though the Bible dominates this genre, this could be a good niche to focus on for our development team. There aren't many apps, and it's a broad genre, so there's more posibilities for us to, let's say, choose another popular book, and make an interactive app about it.\n",
    "\n",
    "If we recall, we know that the App Store is saturated with free apps for fun, so our previous decission could be a good option to stand out. \n",
    "\n",
    "We also find other popular genres, such as book, in which our idea also fits, weather, food and drink or finance. But these last ones aren't really interesting for us, because of the following reasons:\n",
    "- Weather apps: people don't spend much time on them, and this is crucial for our ad based revenue strategy.\n",
    "- Food and drink: these apps are based on actual cooking and delivering services, which we don't have.\n",
    "- Finance apps: we would need a lot of domain knowledge, and maybe some association with banks or other financial institutions.\n",
    "\n",
    "Now, let's analyze the Google Play data set."
   ]
  },
  {
   "cell_type": "markdown",
   "metadata": {},
   "source": [
    "## Most Popular Apps by Genre on Google Play"
   ]
  },
  {
   "cell_type": "markdown",
   "metadata": {},
   "source": [
    "For this data set, we have actual data about the number of installs. However, this number is open ended (5000+, 100000+, etc.), which isn't that precise."
   ]
  },
  {
   "cell_type": "code",
   "execution_count": 31,
   "metadata": {},
   "outputs": [
    {
     "name": "stdout",
     "output_type": "stream",
     "text": [
      "1,000,000+ : 15.726534296028879\n",
      "100,000+ : 11.552346570397113\n",
      "10,000,000+ : 10.548285198555957\n",
      "10,000+ : 10.198555956678701\n",
      "1,000+ : 8.393501805054152\n",
      "100+ : 6.915613718411552\n",
      "5,000,000+ : 6.825361010830325\n",
      "500,000+ : 5.561823104693141\n",
      "50,000+ : 4.7721119133574\n",
      "5,000+ : 4.512635379061372\n",
      "10+ : 3.5424187725631766\n",
      "500+ : 3.2490974729241873\n",
      "50,000,000+ : 2.3014440433213\n",
      "100,000,000+ : 2.1322202166064983\n",
      "50+ : 1.917870036101083\n",
      "5+ : 0.78971119133574\n",
      "1+ : 0.5076714801444043\n",
      "500,000,000+ : 0.2707581227436823\n",
      "1,000,000,000+ : 0.22563176895306858\n",
      "0+ : 0.04512635379061372\n",
      "0 : 0.01128158844765343\n"
     ]
    }
   ],
   "source": [
    "display_table(android_final, 5)"
   ]
  },
  {
   "cell_type": "markdown",
   "metadata": {},
   "source": [
    "The problem is that we don't know if an app with 10000+ installs has 100000, 200000 or 350000 installs. For the purpose of the project we don't actually need that much precision, we only want to get an idea of which app genres attract the most users, so we are going to leave the numbers as they are - if it has 100+ we'll leave it as 100, and if it has 100000+ we'll leave it as 10000.\n",
    "\n",
    "For our computations, we need to each install number from string to float. To do so, we have to remove the + symbol and the commas."
   ]
  },
  {
   "cell_type": "code",
   "execution_count": 32,
   "metadata": {},
   "outputs": [
    {
     "name": "stdout",
     "output_type": "stream",
     "text": [
      "ART_AND_DESIGN :  1986335.0877192982\n",
      "AUTO_AND_VEHICLES :  647317.8170731707\n",
      "BEAUTY :  513151.88679245283\n",
      "BOOKS_AND_REFERENCE :  8767811.894736841\n",
      "BUSINESS :  1712290.1474201474\n",
      "COMICS :  817657.2727272727\n",
      "COMMUNICATION :  38456119.167247385\n",
      "DATING :  854028.8303030303\n",
      "EDUCATION :  1833495.145631068\n",
      "ENTERTAINMENT :  11640705.88235294\n",
      "EVENTS :  253542.22222222222\n",
      "FINANCE :  1387692.475609756\n",
      "FOOD_AND_DRINK :  1924897.7363636363\n",
      "HEALTH_AND_FITNESS :  4188821.9853479853\n",
      "HOUSE_AND_HOME :  1331540.5616438356\n",
      "LIBRARIES_AND_DEMO :  638503.734939759\n",
      "LIFESTYLE :  1437816.2687861272\n",
      "GAME :  15588015.603248259\n",
      "FAMILY :  3695641.8198090694\n",
      "MEDICAL :  120550.61980830671\n",
      "SOCIAL :  23253652.127118643\n",
      "SHOPPING :  7036877.311557789\n",
      "PHOTOGRAPHY :  17840110.40229885\n",
      "SPORTS :  3638640.1428571427\n",
      "TRAVEL_AND_LOCAL :  13984077.710144928\n",
      "TOOLS :  10801391.298666667\n",
      "PERSONALIZATION :  5201482.6122448975\n",
      "PRODUCTIVITY :  16787331.344927534\n",
      "PARENTING :  542603.6206896552\n",
      "WEATHER :  5074486.197183099\n",
      "VIDEO_PLAYERS :  24727872.452830188\n",
      "NEWS_AND_MAGAZINES :  9549178.467741935\n",
      "MAPS_AND_NAVIGATION :  4056941.7741935486\n"
     ]
    }
   ],
   "source": [
    "categories_android = freq_table(android_final, 1)\n",
    "\n",
    "for category in categories_android:\n",
    "    total = 0\n",
    "    len_category = 0\n",
    "    for app in android_final:\n",
    "        category_app = app[1]\n",
    "        if category_app == category:\n",
    "            n_installs = app[5]\n",
    "            n_installs = n_installs.replace('+', '')\n",
    "            n_installs = n_installs.replace(',', '')\n",
    "            n_installs = float(n_installs)\n",
    "            total += n_installs\n",
    "            len_category += 1\n",
    "    avg_n_installs = total / len_category\n",
    "    print(category, ': ',avg_n_installs)"
   ]
  },
  {
   "cell_type": "markdown",
   "metadata": {},
   "source": [
    "We can see that on average, communication apps have the most installs, around 38 million. We suspect it's all about a few huge apps again, so let's look into it."
   ]
  },
  {
   "cell_type": "code",
   "execution_count": 33,
   "metadata": {},
   "outputs": [
    {
     "name": "stdout",
     "output_type": "stream",
     "text": [
      "WhatsApp Messenger :  1,000,000,000+\n",
      "imo beta free calls and text :  100,000,000+\n",
      "Android Messages :  100,000,000+\n",
      "Google Duo - High Quality Video Calls :  500,000,000+\n",
      "Messenger – Text and Video Chat for Free :  1,000,000,000+\n",
      "imo free video calls and chat :  500,000,000+\n",
      "Skype - free IM & video calls :  1,000,000,000+\n",
      "Who :  100,000,000+\n",
      "GO SMS Pro - Messenger, Free Themes, Emoji :  100,000,000+\n",
      "LINE: Free Calls & Messages :  500,000,000+\n",
      "Google Chrome: Fast & Secure :  1,000,000,000+\n",
      "Firefox Browser fast & private :  100,000,000+\n",
      "UC Browser - Fast Download Private & Secure :  500,000,000+\n",
      "Gmail :  1,000,000,000+\n",
      "Hangouts :  1,000,000,000+\n",
      "Messenger Lite: Free Calls & Messages :  100,000,000+\n",
      "Kik :  100,000,000+\n",
      "KakaoTalk: Free Calls & Text :  100,000,000+\n",
      "Opera Mini - fast web browser :  100,000,000+\n",
      "Opera Browser: Fast and Secure :  100,000,000+\n",
      "Telegram :  100,000,000+\n",
      "Truecaller: Caller ID, SMS spam blocking & Dialer :  100,000,000+\n",
      "UC Browser Mini -Tiny Fast Private & Secure :  100,000,000+\n",
      "Viber Messenger :  500,000,000+\n",
      "WeChat :  100,000,000+\n",
      "Yahoo Mail – Stay Organized :  100,000,000+\n",
      "BBM - Free Calls & Messages :  100,000,000+\n"
     ]
    }
   ],
   "source": [
    "for app in android_final:\n",
    "    if app[1] == 'COMMUNICATION' and (app[5] == '1,000,000,000+'\n",
    "                                      or app[5] == '500,000,000+'\n",
    "                                      or app[5] == '100,000,000+'):\n",
    "        print(app[0], ': ', app[5])"
   ]
  },
  {
   "cell_type": "markdown",
   "metadata": {},
   "source": [
    "If we removed the apps above 500 million downloads, the average would be reduced by more than 10 times."
   ]
  },
  {
   "cell_type": "code",
   "execution_count": 34,
   "metadata": {},
   "outputs": [
    {
     "data": {
      "text/plain": [
       "3603485.3884615386"
      ]
     },
     "execution_count": 34,
     "metadata": {},
     "output_type": "execute_result"
    }
   ],
   "source": [
    "under_100_m = []\n",
    "\n",
    "for app in android_final:\n",
    "    n_installs = app[5]\n",
    "    n_installs = n_installs.replace(',', '')\n",
    "    n_installs = n_installs.replace('+', '')\n",
    "    if (app[1] == 'COMMUNICATION') and (float(n_installs) < 100000000):\n",
    "        under_100_m.append(float(n_installs))\n",
    "        \n",
    "sum(under_100_m) / len(under_100_m)"
   ]
  },
  {
   "cell_type": "markdown",
   "metadata": {},
   "source": [
    "The same can be inferred for video player, social or photography apps, among others.\n",
    "\n",
    "These are popular genres dominated by a few giants, which are hard to compete against. Also, there's the game genre, but we previously found out that it is oversaturated on the App Store and a little saturated on Google Play, so we have to look for something else.\n",
    "\n",
    "Since we liked the book and reference genres on the App Store, let's look at them here."
   ]
  },
  {
   "cell_type": "code",
   "execution_count": 35,
   "metadata": {
    "scrolled": false
   },
   "outputs": [
    {
     "name": "stdout",
     "output_type": "stream",
     "text": [
      "E-Book Read - Read Book for free : 50,000+\n",
      "Download free book with green book : 100,000+\n",
      "Wikipedia : 10,000,000+\n",
      "Cool Reader : 10,000,000+\n",
      "Free Panda Radio Music : 100,000+\n",
      "Book store : 1,000,000+\n",
      "FBReader: Favorite Book Reader : 10,000,000+\n",
      "English Grammar Complete Handbook : 500,000+\n",
      "Free Books - Spirit Fanfiction and Stories : 1,000,000+\n",
      "Google Play Books : 1,000,000,000+\n",
      "AlReader -any text book reader : 5,000,000+\n",
      "Offline English Dictionary : 100,000+\n",
      "Offline: English to Tagalog Dictionary : 500,000+\n",
      "FamilySearch Tree : 1,000,000+\n",
      "Cloud of Books : 1,000,000+\n",
      "Recipes of Prophetic Medicine for free : 500,000+\n",
      "ReadEra – free ebook reader : 1,000,000+\n",
      "Anonymous caller detection : 10,000+\n",
      "Ebook Reader : 5,000,000+\n",
      "Litnet - E-books : 100,000+\n",
      "Read books online : 5,000,000+\n",
      "English to Urdu Dictionary : 500,000+\n",
      "eBoox: book reader fb2 epub zip : 1,000,000+\n",
      "English Persian Dictionary : 500,000+\n",
      "Flybook : 500,000+\n",
      "All Maths Formulas : 1,000,000+\n",
      "Ancestry : 5,000,000+\n",
      "HTC Help : 10,000,000+\n",
      "English translation from Bengali : 100,000+\n",
      "Pdf Book Download - Read Pdf Book : 100,000+\n",
      "Free Book Reader : 100,000+\n",
      "eBoox new: Reader for fb2 epub zip books : 50,000+\n",
      "Only 30 days in English, the guideline is guaranteed : 500,000+\n",
      "Moon+ Reader : 10,000,000+\n",
      "SH-02J Owner's Manual (Android 8.0) : 50,000+\n",
      "English-Myanmar Dictionary : 1,000,000+\n",
      "Golden Dictionary (EN-AR) : 1,000,000+\n",
      "All Language Translator Free : 1,000,000+\n",
      "Azpen eReader : 500,000+\n",
      "URBANO V 02 instruction manual : 100,000+\n",
      "Bible : 100,000,000+\n",
      "C Programs and Reference : 50,000+\n",
      "C Offline Tutorial : 1,000+\n",
      "C Programs Handbook : 50,000+\n",
      "Amazon Kindle : 100,000,000+\n",
      "Aab e Hayat Full Novel : 100,000+\n",
      "Aldiko Book Reader : 10,000,000+\n",
      "Google I/O 2018 : 500,000+\n",
      "R Language Reference Guide : 10,000+\n",
      "Learn R Programming Full : 5,000+\n",
      "R Programing Offline Tutorial : 1,000+\n",
      "Guide for R Programming : 5+\n",
      "Learn R Programming : 10+\n",
      "R Quick Reference Big Data : 1,000+\n",
      "V Made : 100,000+\n",
      "Wattpad 📖 Free Books : 100,000,000+\n",
      "Dictionary - WordWeb : 5,000,000+\n",
      "Guide (for X-MEN) : 100,000+\n",
      "AC Air condition Troubleshoot,Repair,Maintenance : 5,000+\n",
      "AE Bulletins : 1,000+\n",
      "Ae Allah na Dai (Rasa) : 10,000+\n",
      "50000 Free eBooks & Free AudioBooks : 5,000,000+\n",
      "Ag PhD Field Guide : 10,000+\n",
      "Ag PhD Deficiencies : 10,000+\n",
      "Ag PhD Planting Population Calculator : 1,000+\n",
      "Ag PhD Soybean Diseases : 1,000+\n",
      "Fertilizer Removal By Crop : 50,000+\n",
      "A-J Media Vault : 50+\n",
      "Al-Quran (Free) : 10,000,000+\n",
      "Al Quran (Tafsir & by Word) : 500,000+\n",
      "Al Quran Indonesia : 10,000,000+\n",
      "Al'Quran Bahasa Indonesia : 10,000,000+\n",
      "Al Quran Al karim : 1,000,000+\n",
      "Al-Muhaffiz : 50,000+\n",
      "Al Quran : EAlim - Translations & MP3 Offline : 5,000,000+\n",
      "Al-Quran 30 Juz free copies : 500,000+\n",
      "Koran Read &MP3 30 Juz Offline : 1,000,000+\n",
      "Hafizi Quran 15 lines per page : 1,000,000+\n",
      "Quran for Android : 10,000,000+\n",
      "Surah Al-Waqiah : 100,000+\n",
      "Hisnul Al Muslim - Hisn Invocations & Adhkaar : 100,000+\n",
      "Satellite AR : 1,000,000+\n",
      "Audiobooks from Audible : 100,000,000+\n",
      "Kinot & Eichah for Tisha B'Av : 10,000+\n",
      "AW Tozer Devotionals - Daily : 5,000+\n",
      "Tozer Devotional -Series 1 : 1,000+\n",
      "The Pursuit of God : 1,000+\n",
      "AY Sing : 5,000+\n",
      "Ay Hasnain k Nana Milad Naat : 10,000+\n",
      "Ay Mohabbat Teri Khatir Novel : 10,000+\n",
      "Arizona Statutes, ARS (AZ Law) : 1,000+\n",
      "Oxford A-Z of English Usage : 1,000,000+\n",
      "BD Fishpedia : 1,000+\n",
      "BD All Sim Offer : 10,000+\n",
      "Youboox - Livres, BD et magazines : 500,000+\n",
      "B&H Kids AR : 10,000+\n",
      "B y H Niños ES : 5,000+\n",
      "Dictionary.com: Find Definitions for English Words : 10,000,000+\n",
      "English Dictionary - Offline : 10,000,000+\n",
      "Bible KJV : 5,000,000+\n",
      "Borneo Bible, BM Bible : 10,000+\n",
      "MOD Black for BM : 100+\n",
      "BM Box : 1,000+\n",
      "Anime Mod for BM : 100+\n",
      "NOOK: Read eBooks & Magazines : 10,000,000+\n",
      "NOOK Audiobooks : 500,000+\n",
      "NOOK App for NOOK Devices : 500,000+\n",
      "Browsery by Barnes & Noble : 5,000+\n",
      "bp e-store : 1,000+\n",
      "Brilliant Quotes: Life, Love, Family & Motivation : 1,000,000+\n",
      "BR Ambedkar Biography & Quotes : 10,000+\n",
      "BU Alsace : 100+\n",
      "Catholic La Bu Zo Kam : 500+\n",
      "Khrifa Hla Bu (Solfa) : 10+\n",
      "Kristian Hla Bu : 10,000+\n",
      "SA HLA BU : 1,000+\n",
      "Learn SAP BW : 500+\n",
      "Learn SAP BW on HANA : 500+\n",
      "CA Laws 2018 (California Laws and Codes) : 5,000+\n",
      "Bootable Methods(USB-CD-DVD) : 10,000+\n",
      "cloudLibrary : 100,000+\n",
      "SDA Collegiate Quarterly : 500+\n",
      "Sabbath School : 100,000+\n",
      "Cypress College Library : 100+\n",
      "Stats Royale for Clash Royale : 1,000,000+\n",
      "GATE 21 years CS Papers(2011-2018 Solved) : 50+\n",
      "Learn CT Scan Of Head : 5,000+\n",
      "Easy Cv maker 2018 : 10,000+\n",
      "How to Write CV : 100,000+\n",
      "CW Nuclear : 1,000+\n",
      "CY Spray nozzle : 10+\n",
      "BibleRead En Cy Zh Yue : 5+\n",
      "CZ-Help : 5+\n",
      "Modlitební knížka CZ : 500+\n",
      "Guide for DB Xenoverse : 10,000+\n",
      "Guide for DB Xenoverse 2 : 10,000+\n",
      "Guide for IMS DB : 10+\n",
      "DC HSEMA : 5,000+\n",
      "DC Public Library : 1,000+\n",
      "Painting Lulu DC Super Friends : 1,000+\n",
      "Dictionary : 10,000,000+\n",
      "Fix Error Google Playstore : 1,000+\n",
      "D. H. Lawrence Poems FREE : 1,000+\n",
      "Bilingual Dictionary Audio App : 5,000+\n",
      "DM Screen : 10,000+\n",
      "wikiHow: how to do anything : 1,000,000+\n",
      "Dr. Doug's Tips : 1,000+\n",
      "Bible du Semeur-BDS (French) : 50,000+\n",
      "La citadelle du musulman : 50,000+\n",
      "DV 2019 Entry Guide : 10,000+\n",
      "DV 2019 - EDV Photo & Form : 50,000+\n",
      "DV 2018 Winners Guide : 1,000+\n",
      "EB Annual Meetings : 1,000+\n",
      "EC - AP & Telangana : 5,000+\n",
      "TN Patta Citta & EC : 10,000+\n",
      "AP Stamps and Registration : 10,000+\n",
      "CompactiMa EC pH Calibration : 100+\n",
      "EGW Writings 2 : 100,000+\n",
      "EGW Writings : 1,000,000+\n",
      "Bible with EGW Comments : 100,000+\n",
      "My Little Pony AR Guide : 1,000,000+\n",
      "SDA Sabbath School Quarterly : 500,000+\n",
      "Duaa Ek Ibaadat : 5,000+\n",
      "Spanish English Translator : 10,000,000+\n",
      "Dictionary - Merriam-Webster : 10,000,000+\n",
      "JW Library : 10,000,000+\n",
      "Oxford Dictionary of English : Free : 10,000,000+\n",
      "English Hindi Dictionary : 10,000,000+\n",
      "English to Hindi Dictionary : 5,000,000+\n",
      "EP Research Service : 1,000+\n",
      "Hymnes et Louanges : 100,000+\n",
      "EU Charter : 1,000+\n",
      "EU Data Protection : 1,000+\n",
      "EU IP Codes : 100+\n",
      "EW PDF : 5+\n",
      "BakaReader EX : 100,000+\n",
      "EZ Quran : 50,000+\n",
      "FA Part 1 & 2 Past Papers Solved Free – Offline : 5,000+\n",
      "La Fe de Jesus : 1,000+\n",
      "La Fe de Jesús : 500+\n",
      "Le Fe de Jesus : 500+\n",
      "Florida - Pocket Brainbook : 1,000+\n",
      "Florida Statutes (FL Code) : 1,000+\n",
      "English To Shona Dictionary : 10,000+\n",
      "Greek Bible FP (Audio) : 1,000+\n",
      "Golden Dictionary (FR-AR) : 500,000+\n",
      "Fanfic-FR : 5,000+\n",
      "Bulgarian French Dictionary Fr : 10,000+\n",
      "Chemin (fr) : 1,000+\n",
      "The SCP Foundation DB fr nn5n : 1,000+\n"
     ]
    }
   ],
   "source": [
    "for app in android_final:\n",
    "    if app[1] == 'BOOKS_AND_REFERENCE':\n",
    "        print(app[0], ':', app[5])"
   ]
  },
  {
   "cell_type": "markdown",
   "metadata": {},
   "source": [
    "This genre includes a wide variety of apps, from software for reading ebooks to libraries, tutorials or dictionaries. But it still seems to be dominated by a small number of hugely popular apps."
   ]
  },
  {
   "cell_type": "code",
   "execution_count": 36,
   "metadata": {},
   "outputs": [
    {
     "name": "stdout",
     "output_type": "stream",
     "text": [
      "Google Play Books :  1,000,000,000+\n",
      "Bible :  100,000,000+\n",
      "Amazon Kindle :  100,000,000+\n",
      "Wattpad 📖 Free Books :  100,000,000+\n",
      "Audiobooks from Audible :  100,000,000+\n"
     ]
    }
   ],
   "source": [
    "for app in android_final:\n",
    "    if app[1] == 'BOOKS_AND_REFERENCE' and (app[5] == '1,000,000,000+'\n",
    "                                            or app[5] == '500,000,000+'\n",
    "                                            or app[5] == '100,000,000+'):\n",
    "        print(app[0], ': ', app[5])"
   ]
  },
  {
   "cell_type": "markdown",
   "metadata": {},
   "source": [
    "It is indeed dominated by a few apps, but we believe there's a possibility to succed, since there are other smaller but still great apps, above 1 million installs. Let's get some insight from these apps."
   ]
  },
  {
   "cell_type": "code",
   "execution_count": 37,
   "metadata": {},
   "outputs": [
    {
     "name": "stdout",
     "output_type": "stream",
     "text": [
      "Wikipedia :  10,000,000+\n",
      "Cool Reader :  10,000,000+\n",
      "Book store :  1,000,000+\n",
      "FBReader: Favorite Book Reader :  10,000,000+\n",
      "Free Books - Spirit Fanfiction and Stories :  1,000,000+\n",
      "AlReader -any text book reader :  5,000,000+\n",
      "FamilySearch Tree :  1,000,000+\n",
      "Cloud of Books :  1,000,000+\n",
      "ReadEra – free ebook reader :  1,000,000+\n",
      "Ebook Reader :  5,000,000+\n",
      "Read books online :  5,000,000+\n",
      "eBoox: book reader fb2 epub zip :  1,000,000+\n",
      "All Maths Formulas :  1,000,000+\n",
      "Ancestry :  5,000,000+\n",
      "HTC Help :  10,000,000+\n",
      "Moon+ Reader :  10,000,000+\n",
      "English-Myanmar Dictionary :  1,000,000+\n",
      "Golden Dictionary (EN-AR) :  1,000,000+\n",
      "All Language Translator Free :  1,000,000+\n",
      "Aldiko Book Reader :  10,000,000+\n",
      "Dictionary - WordWeb :  5,000,000+\n",
      "50000 Free eBooks & Free AudioBooks :  5,000,000+\n",
      "Al-Quran (Free) :  10,000,000+\n",
      "Al Quran Indonesia :  10,000,000+\n",
      "Al'Quran Bahasa Indonesia :  10,000,000+\n",
      "Al Quran Al karim :  1,000,000+\n",
      "Al Quran : EAlim - Translations & MP3 Offline :  5,000,000+\n",
      "Koran Read &MP3 30 Juz Offline :  1,000,000+\n",
      "Hafizi Quran 15 lines per page :  1,000,000+\n",
      "Quran for Android :  10,000,000+\n",
      "Satellite AR :  1,000,000+\n",
      "Oxford A-Z of English Usage :  1,000,000+\n",
      "Dictionary.com: Find Definitions for English Words :  10,000,000+\n",
      "English Dictionary - Offline :  10,000,000+\n",
      "Bible KJV :  5,000,000+\n",
      "NOOK: Read eBooks & Magazines :  10,000,000+\n",
      "Brilliant Quotes: Life, Love, Family & Motivation :  1,000,000+\n",
      "Stats Royale for Clash Royale :  1,000,000+\n",
      "Dictionary :  10,000,000+\n",
      "wikiHow: how to do anything :  1,000,000+\n",
      "EGW Writings :  1,000,000+\n",
      "My Little Pony AR Guide :  1,000,000+\n",
      "Spanish English Translator :  10,000,000+\n",
      "Dictionary - Merriam-Webster :  10,000,000+\n",
      "JW Library :  10,000,000+\n",
      "Oxford Dictionary of English : Free :  10,000,000+\n",
      "English Hindi Dictionary :  10,000,000+\n",
      "English to Hindi Dictionary :  5,000,000+\n"
     ]
    }
   ],
   "source": [
    "for app in android_final:\n",
    "    if app[1] == 'BOOKS_AND_REFERENCE' and (app[5] == '1,000,000+'\n",
    "                                            or app[5] == '5,000,000+'\n",
    "                                            or app[5] == '10,000,000+'\n",
    "                                            or app[5] == '50,000,000+'):\n",
    "        print(app[0], ': ', app[5])"
   ]
  },
  {
   "cell_type": "markdown",
   "metadata": {},
   "source": [
    "We can see that this niche is dominated by ebooks readers, libraries and dictionaries, so we won't build apps like those, to avoid the high competition.\n",
    "\n",
    "We observe that there are some apps built around Al-Quran, which confirms our previous thought about building a profitable app around a popular book. This seems to be a good idea both for the Google Play market and the App Store.\n",
    "\n",
    "However, we should add some features to the raw book, like an audio version, quotes, several translations of the book with built-in dictionary, etc., if we want to make it stand out among the other apps of this genre."
   ]
  },
  {
   "cell_type": "markdown",
   "metadata": {},
   "source": [
    "## Conclusions"
   ]
  },
  {
   "cell_type": "markdown",
   "metadata": {},
   "source": [
    "In this project we analyzed data about apps in Google Play and the App Store, to determine a profitable app for both markets. Our ficiticious development team only builds English, free apps, and the main source of revenue are ads.\n",
    "\n",
    "We conclude that taking a popular book and turning it into an app can be our best bet. But we should add some features like quotes, audio version, built-in dictionary and translations if we want to make it succed and stand out among the competition."
   ]
  }
 ],
 "metadata": {
  "kernelspec": {
   "display_name": "Python 3",
   "language": "python",
   "name": "python3"
  },
  "language_info": {
   "codemirror_mode": {
    "name": "ipython",
    "version": 3
   },
   "file_extension": ".py",
   "mimetype": "text/x-python",
   "name": "python",
   "nbconvert_exporter": "python",
   "pygments_lexer": "ipython3",
   "version": "3.7.3"
  }
 },
 "nbformat": 4,
 "nbformat_minor": 2
}
